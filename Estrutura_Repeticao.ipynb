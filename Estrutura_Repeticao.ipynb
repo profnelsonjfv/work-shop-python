{
  "nbformat": 4,
  "nbformat_minor": 0,
  "metadata": {
    "colab": {
      "provenance": [],
      "authorship_tag": "ABX9TyM8I0N3OsaM40BMmARHQNBz",
      "include_colab_link": true
    },
    "kernelspec": {
      "name": "python3",
      "display_name": "Python 3"
    },
    "language_info": {
      "name": "python"
    }
  },
  "cells": [
    {
      "cell_type": "markdown",
      "metadata": {
        "id": "view-in-github",
        "colab_type": "text"
      },
      "source": [
        "<a href=\"https://colab.research.google.com/github/profnelsonjfv/work-shop-python/blob/main/Estrutura_Repeticao.ipynb\" target=\"_parent\"><img src=\"https://colab.research.google.com/assets/colab-badge.svg\" alt=\"Open In Colab\"/></a>"
      ]
    },
    {
      "cell_type": "markdown",
      "source": [
        "###### A estrutura de repetição **for** é usada para iterar sobre uma sequência (como uma lista, tupla, string, ou range). O loop executa um bloco de código para cada item na sequência."
      ],
      "metadata": {
        "id": "vYDSTDEFsNEQ"
      }
    },
    {
      "cell_type": "code",
      "execution_count": null,
      "metadata": {
        "id": "g4mknEk1sHLD"
      },
      "outputs": [],
      "source": [
        "frutas = [\"maçã\", \"banana\", \"cereja\"]\n",
        "for fruta in frutas:\n",
        "    print(fruta)"
      ]
    },
    {
      "cell_type": "markdown",
      "source": [
        "####### O loop for é muito poderoso e pode ser usado com a função range() para gerar uma sequência de números."
      ],
      "metadata": {
        "id": "IXTi7Jurt8yd"
      }
    },
    {
      "cell_type": "code",
      "source": [
        "# Iterando de 0 a 4\n",
        "for i in range(5):\n",
        "    print(i)\n",
        "\n",
        "# Iterando sobre uma lista com indexação\n",
        "frutas = [\"maçã\", \"banana\", \"cereja\"]\n",
        "for index in range(len(frutas)):\n",
        "    print(index, frutas[index])"
      ],
      "metadata": {
        "id": "nq58VqDvt2MD"
      },
      "execution_count": null,
      "outputs": []
    },
    {
      "cell_type": "markdown",
      "source": [
        "###### A estrutura de repetição **while** é usada para repetir um bloco de código enquanto uma condição for verdadeira. O loop verifica a condição antes de cada iteração."
      ],
      "metadata": {
        "id": "damAE-4Xvb9S"
      }
    },
    {
      "cell_type": "code",
      "source": [
        "contador = 0\n",
        "while contador < 5:\n",
        "    print(contador)\n",
        "    contador += 1"
      ],
      "metadata": {
        "id": "HFXsnULbvfc6"
      },
      "execution_count": null,
      "outputs": []
    },
    {
      "cell_type": "markdown",
      "source": [
        "####### Tanto no for quanto no **while**, você pode usar as instruções break e continue para controlar o fluxo do loop.\n",
        "\n",
        "break: Encerra o loop completamente.\n",
        "continue: Pula para a próxima iteração do loop."
      ],
      "metadata": {
        "id": "j8ztbpGpvyPm"
      }
    },
    {
      "cell_type": "code",
      "source": [
        "# Usando break\n",
        "for num in range(10):\n",
        "    if num == 5:\n",
        "        break\n",
        "    print(num)\n",
        "\n",
        "# Usando continue\n",
        "for num in range(10):\n",
        "    if num % 2 == 0:\n",
        "        continue\n",
        "    print(num)"
      ],
      "metadata": {
        "id": "4xXc9JzHv4Vd"
      },
      "execution_count": null,
      "outputs": []
    }
  ]
}